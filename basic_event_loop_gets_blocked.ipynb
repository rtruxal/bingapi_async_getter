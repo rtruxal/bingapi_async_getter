{
 "cells": [
  {
   "cell_type": "code",
   "execution_count": null,
   "metadata": {},
   "outputs": [],
   "source": [
    "# Fundamentals\n",
    "# Feel free to run all cells."
   ]
  },
  {
   "cell_type": "code",
   "execution_count": 2,
   "metadata": {},
   "outputs": [],
   "source": [
    "import asyncio\n",
    "__doc__ = \"\"\"\n",
    "\n",
    "2 INFINITE LOOPS RUNNING AT THE SAME TIME?! \n",
    "\n",
    "AND THEY CAN STOP AND PICK BACK UP RELATIVELY GRACEFULLY?!\n",
    "\n",
    "YAY. ^_^\n",
    "\"\"\""
   ]
  },
  {
   "cell_type": "code",
   "execution_count": 3,
   "metadata": {},
   "outputs": [],
   "source": [
    "async def forever_loop():\n",
    "    \"\"\"the 500 & 4000 are both totally arbitrary.\n",
    "       The thing just counts up to 4000 then restarts...forever.\n",
    "       At some arbitrary number (500 here) it alerts you of its presence.\"\"\"\n",
    "    count = 0\n",
    "    while True: # INFITE LOOP\n",
    "        await asyncio.sleep(0) # <--need a breakpoint or this will block.\n",
    "        count += 1\n",
    "        if count == 500:\n",
    "            print('forever_loop() is looping')\n",
    "        if count > 4000:\n",
    "            count = 0\n",
    "            \n",
    "async def sit_in_wait(default_wait_time=5):\n",
    "    \"\"\"this coroutine injects a blocking function every 5 seconds.\"\"\"\n",
    "    while True: # INFINITE LOOP\n",
    "        await asyncio.sleep(default_wait_time)\n",
    "        gum_shit_up()\n",
    "        \n",
    "def gum_shit_up():\n",
    "    \"\"\"THIS BLOCKS OBVIOUSLY. PRESS ENTER 4 TIMES.\"\"\"\n",
    "    input('YO.')\n",
    "    input('URRYTHANG IS STOPPED NOW.')\n",
    "    input('HOW U DOIN?.')\n",
    "    input('okokok go ahead...')"
   ]
  },
  {
   "cell_type": "code",
   "execution_count": null,
   "metadata": {},
   "outputs": [],
   "source": [
    "loop = asyncio.get_event_loop()\n",
    "asyncio.ensure_future(forever_loop(), loop=loop)\n",
    "asyncio.ensure_future(sit_in_wait(), loop=loop)\n",
    "try:\n",
    "    loop.run_forever()\n",
    "except KeyboardInterrupt as err:\n",
    "    print('BROKEN PIPE....just kidding you interrupted things. Shutting down.')\n",
    "finally:\n",
    "    loop.run_until_complete(loop.shutdown_asyncgens())\n",
    "    loop.close()\n",
    "print('shutoff successful.')"
   ]
  },
  {
   "cell_type": "code",
   "execution_count": null,
   "metadata": {},
   "outputs": [],
   "source": [
    "loop2 = asyncio.get_event_loop()"
   ]
  },
  {
   "cell_type": "code",
   "execution_count": null,
   "metadata": {},
   "outputs": [],
   "source": [
    "loop2.run_until_complete(forever_loop()) # <-- note that calling loop.close() on the default loop totally screws you.\n",
    "\n",
    "# in this case, you'll need to press kernel, then restart the whole kernel.\n",
    "\n",
    "# to change this behavior, change loop.close() ==> loop.stop() in the cell above."
   ]
  },
  {
   "cell_type": "code",
   "execution_count": null,
   "metadata": {},
   "outputs": [],
   "source": []
  }
 ],
 "metadata": {
  "kernelspec": {
   "display_name": "Python 3",
   "language": "python",
   "name": "python3"
  },
  "language_info": {
   "codemirror_mode": {
    "name": "ipython",
    "version": 3
   },
   "file_extension": ".py",
   "mimetype": "text/x-python",
   "name": "python",
   "nbconvert_exporter": "python",
   "pygments_lexer": "ipython3",
   "version": "3.6.2"
  }
 },
 "nbformat": 4,
 "nbformat_minor": 2
}
