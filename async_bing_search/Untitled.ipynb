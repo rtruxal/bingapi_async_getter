{
 "cells": [
  {
   "cell_type": "code",
   "execution_count": 1,
   "metadata": {
    "collapsed": true
   },
   "outputs": [],
   "source": [
    "import aiohttp\n",
    "import asyncio\n",
    "import async_timeout\n",
    "import uvloop\n",
    "from collections import OrderedDict, Iterable\n",
    "import sys\n",
    "import os"
   ]
  },
  {
   "cell_type": "code",
   "execution_count": 10,
   "metadata": {},
   "outputs": [],
   "source": [
    "async def fetch(url, session, semaphore, headers=None):\n",
    "    \"\"\"\n",
    "    RETURN LOGIC:\n",
    "      - response.text() if successful\n",
    "      - NoneType if NOT successful\n",
    "    \"\"\"\n",
    "    with async_timeout.timeout(10):\n",
    "        async with session.get(url, headers=(headers if headers else {})) as response:\n",
    "            while True:\n",
    "                try:\n",
    "                    assert not semaphore.locked()\n",
    "                    data = await response.text()\n",
    "                    return data\n",
    "                except AssertionError as er:\n",
    "                    await asyncio.sleep(0) # <-- note that assertion above needs to happen BEFORE await.\n",
    "                    continue # <-- this is only ok because async_timeout().\n",
    "                    #TODO: Make this less hacky...It may not run forever, but this might push on the cpu if things go wrong.\n",
    "                except aiohttp.ClientError as err:\n",
    "                    print(\"WARN: URL = '{}' returned {}\".format(err, err.msg))\n",
    "                    return None"
   ]
  },
  {
   "cell_type": "code",
   "execution_count": 11,
   "metadata": {
    "collapsed": true
   },
   "outputs": [],
   "source": [
    "class Manifest(object):\n",
    "    def __init__(self, ):\n",
    "        super(Manifest, self).__init__()\n",
    "        "
   ]
  },
  {
   "cell_type": "code",
   "execution_count": 7,
   "metadata": {},
   "outputs": [
    {
     "data": {
      "text/plain": [
       "True"
      ]
     },
     "execution_count": 7,
     "metadata": {},
     "output_type": "execute_result"
    }
   ],
   "source": []
  },
  {
   "cell_type": "code",
   "execution_count": null,
   "metadata": {
    "collapsed": true
   },
   "outputs": [],
   "source": []
  }
 ],
 "metadata": {
  "kernelspec": {
   "display_name": "Python 3",
   "language": "python",
   "name": "python3"
  },
  "language_info": {
   "codemirror_mode": {
    "name": "ipython",
    "version": 3
   },
   "file_extension": ".py",
   "mimetype": "text/x-python",
   "name": "python",
   "nbconvert_exporter": "python",
   "pygments_lexer": "ipython3",
   "version": "3.6.2"
  }
 },
 "nbformat": 4,
 "nbformat_minor": 2
}
