{
 "cells": [
  {
   "cell_type": "code",
   "execution_count": 1,
   "metadata": {
    "collapsed": true
   },
   "outputs": [],
   "source": [
    "import asyncio\n",
    "import aiohttp\n",
    "import async_timeout\n",
    "from collections import OrderedDict, Iterable\n",
    "logger = object #<-----gahhhhhhh I know I know..."
   ]
  },
  {
   "cell_type": "code",
   "execution_count": 2,
   "metadata": {
    "collapsed": true
   },
   "outputs": [],
   "source": [
    "class YouFuckedUpError(BaseException):\n",
    "    pass"
   ]
  },
  {
   "cell_type": "code",
   "execution_count": 3,
   "metadata": {
    "collapsed": true
   },
   "outputs": [],
   "source": [
    "try:\n",
    "    import uvloop\n",
    "    asyncio.set_event_loop_policy(uvloop.EventLoopPolicy())\n",
    "except ImportError:\n",
    "    pass"
   ]
  },
  {
   "cell_type": "code",
   "execution_count": 4,
   "metadata": {
    "collapsed": true
   },
   "outputs": [],
   "source": [
    "async def fetch(url, headers, session, semaphore):\n",
    "    with (await semaphore): # <--...UH...K?\n",
    "        # Can't think of when this if/else bloc would be necessary, \n",
    "        # but the herd compells me:\n",
    "        if callable(headers):\n",
    "            _headers = headers()\n",
    "        else:\n",
    "            _headers = headers\n",
    "        try:\n",
    "            async with session.get(url, headers=_headers) as response:\n",
    "                if response.status in (200, 201):\n",
    "                    data = await response.text()\n",
    "                    return data\n",
    "                else:\n",
    "                    error_code = response.status\n",
    "                    raise aiohttp.ClientResponseError()\n",
    "        except aiohttp.ClientResponseError as err:\n",
    "            print('[FETCH-ERROR] url: {} -- code: {}\\t msg: {}'.format(url, error_code, (err.msg if err.msg else \"NO DATA FROM SERVER\")))\n",
    "            return None"
   ]
  },
  {
   "cell_type": "code",
   "execution_count": 8,
   "metadata": {},
   "outputs": [
    {
     "name": "stderr",
     "output_type": "stream",
     "text": [
      "Creating a client session outside of coroutine\n",
      "client_session: <aiohttp.client.ClientSession object at 0x000001639EE67588>\n"
     ]
    },
    {
     "name": "stdout",
     "output_type": "stream",
     "text": [
      "object saved in bucket.\n",
      "object saved in bucket.\n",
      "['{\\n  \"uuid\": \"a263c6ca-6595-4b22-8378-e29075baf13c\"\\n}\\n',\n",
      " '{\\n'\n",
      " '  \"args\": {}, \\n'\n",
      " '  \"headers\": {\\n'\n",
      " '    \"Accept\": \"*/*\", \\n'\n",
      " '    \"Accept-Encoding\": \"gzip, deflate\", \\n'\n",
      " '    \"Connection\": \"close\", \\n'\n",
      " '    \"Host\": \"httpbin.org\", \\n'\n",
      " '    \"User-Agent\": \"Python/3.6 aiohttp/2.2.5\"\\n'\n",
      " '  }, \\n'\n",
      " '  \"origin\": \"64.128.89.162\", \\n'\n",
      " '  \"url\": \"https://httpbin.org/get\"\\n'\n",
      " '}\\n']\n"
     ]
    }
   ],
   "source": [
    "# # Test `fetch()`\n",
    "# class bucket:\n",
    "#     bucket = []\n",
    "#     @classmethod\n",
    "#     def submit(cls, obj):\n",
    "#         cls.bucket.append(obj)\n",
    "#         print('object saved in bucket.')\n",
    "#     @classmethod    \n",
    "#     async def do(cls, url, headers, session, semaphore):\n",
    "#         data = await fetch(url, headers, session, semaphore)\n",
    "#         cls.submit(data)\n",
    "    \n",
    "# loop = asyncio.get_event_loop()\n",
    "# url = 'https://httpbin.org/get'\n",
    "# url2 = 'https://httpbin.org/uuid'\n",
    "# sem = asyncio.Semaphore(2)\n",
    "# headers = {'Accept' : '*/*'}\n",
    "\n",
    "# with aiohttp.ClientSession() as session:\n",
    "#     task_1 = asyncio.ensure_future(bucket.do(url2, headers, session, sem))\n",
    "#     task_2 = asyncio.ensure_future(bucket.do(url, headers, session, sem))\n",
    "#     loop.run_until_complete(asyncio.gather(task_1, task_2))\n",
    "# from pprint import pprint\n",
    "# pprint(bucket.bucket)\n",
    "# # Totes works."
   ]
  },
  {
   "cell_type": "code",
   "execution_count": 15,
   "metadata": {
    "collapsed": true
   },
   "outputs": [],
   "source": [
    "class Manifest:\n",
    "    \"\"\"IMPORTANT NOTE: Manifest() & Orchestrator() ARE *EXTREMELY-EXTREMELY-EXTREMELY* COUPLED.\n",
    "        MOAR NOTES: \n",
    "         - This class exists SOLELY to abstract input from the module's mechanics.\n",
    "         - ONE Orchestrator() can handle MANY Manifest()s\n",
    "        \"\"\"\n",
    "    def __init__(self, start_url='https://httpbin.org/get', headers=None, depth=3):\n",
    "        self.start_url = start_url\n",
    "        if headers:\n",
    "            self.headers = headers\n",
    "        else:\n",
    "            self.headers = {}\n",
    "        self.depth = depth\n",
    "        \n",
    "        self.base_url = None\n",
    "        self.urls_count = 0\n",
    "        \n",
    "        \n"
   ]
  },
  {
   "cell_type": "code",
   "execution_count": 28,
   "metadata": {
    "collapsed": true
   },
   "outputs": [],
   "source": [
    "class Orchestrator(object):\n",
    "    \"\"\"IMPORTANT NOTE: Manifest() & Orchestrator() ARE *EXTREMELY-EXTREMELY-EXTREMELY* COUPLED.\"\"\"\n",
    "    \n",
    "    #TODO: This class should eventually be able to take a loop as an arg. For now only default is allowed.\n",
    "    #TODO: The above todo will allow a MANY to MANY relationship b/w Orchestrator() & Manifest().\n",
    "    _loop = None\n",
    "    _semaphore = None\n",
    "    _error_urls = []\n",
    "    _manifests = []\n",
    "    _queue = None\n",
    "    \n",
    "    def __init__(self, concurency=5, loop=None, queue_len=0):\n",
    "        if loop == None:\n",
    "            if Orchestrator._loop == None:\n",
    "                Orchestrator._loop = asyncio.get_event_loop()\n",
    "            if Orchestrator._queue == None:\n",
    "                Orchestrator._queue = asyncio.Queue(maxsize=queue_len, loop=Orchestrator._loop)\n",
    "            if Orchestrator._semaphore == None:\n",
    "                Orchestrator._semaphore = asyncio.Semaphore(concurency)\n",
    "        else:\n",
    "            raise YouFuckedUpError(\"Can't do that yet.\")\n",
    "            exit(-1)\n",
    "    \n",
    "    @classmethod\n",
    "    def _is_ready(cls):\n",
    "        try:\n",
    "            assert cls._loop is not None\n",
    "            assert cls._semaphore is not None\n",
    "            assert cls._queue is not None\n",
    "            return True\n",
    "        except AssertionError as err:\n",
    "            return False\n",
    "        \n",
    "    @classmethod\n",
    "    async def _run(cls):\n",
    "        if cls._is_ready():\n",
    "            try:\n",
    "                cls._loop.run_forever(dump_loop)\n",
    "            except KeyboardInterrupt:\n",
    "                print('mission complete?')\n",
    "        else:\n",
    "            print('Orchestrator._is_ready() failed')\n",
    "    \n",
    "    @classmethod\n",
    "    async def dump_loop(cls):\n",
    "        while True:\n",
    "            stuff_i_guess = await cls._queue.get()\n",
    "            print(stuff_i_guess)\n",
    "\n",
    "        \n",
    "    @classmethod\n",
    "    async def load(cls, manifest):\n",
    "        assert isinstance(manifest, Manifest), \"There's a special class for this. Ya need to use it.\"\n",
    "        async with aiohttp.ClientSession(loop=cls._loop) as session:\n",
    "            task = asyncio.ensure_future(fetch(manifest.url, manifest.headers, session, cls._semaphore))\n",
    "            await cls._queue.put(task)\n",
    "        \n",
    "            \n",
    "        \n",
    "        \n",
    "        \n",
    "        \n",
    "            \n",
    "    "
   ]
  },
  {
   "cell_type": "code",
   "execution_count": 31,
   "metadata": {},
   "outputs": [
    {
     "name": "stderr",
     "output_type": "stream",
     "text": [
      "C:\\Anaconda3\\envs\\py36\\lib\\site-packages\\ipykernel_launcher.py:4: RuntimeWarning: coroutine 'Orchestrator.load' was never awaited\n",
      "  after removing the cwd from sys.path.\n",
      "C:\\Anaconda3\\envs\\py36\\lib\\site-packages\\ipykernel_launcher.py:5: RuntimeWarning: coroutine 'Orchestrator.load' was never awaited\n",
      "  \"\"\"\n"
     ]
    },
    {
     "ename": "TypeError",
     "evalue": "'coroutine' object is not callable",
     "output_type": "error",
     "traceback": [
      "\u001b[1;31m--------------------------------------------------------------\u001b[0m",
      "\u001b[1;31mTypeError\u001b[0m                    Traceback (most recent call last)",
      "\u001b[1;32m<ipython-input-31-7b3b59486fd5>\u001b[0m in \u001b[0;36m<module>\u001b[1;34m()\u001b[0m\n\u001b[0;32m      4\u001b[0m \u001b[0mo\u001b[0m\u001b[1;33m.\u001b[0m\u001b[0mload\u001b[0m\u001b[1;33m(\u001b[0m\u001b[0mm\u001b[0m\u001b[1;33m)\u001b[0m\u001b[1;33m\u001b[0m\u001b[0m\n\u001b[0;32m      5\u001b[0m \u001b[0mo\u001b[0m\u001b[1;33m.\u001b[0m\u001b[0mload\u001b[0m\u001b[1;33m(\u001b[0m\u001b[0mm2\u001b[0m\u001b[1;33m)\u001b[0m\u001b[1;33m\u001b[0m\u001b[0m\n\u001b[1;32m----> 6\u001b[1;33m \u001b[0mo\u001b[0m\u001b[1;33m.\u001b[0m\u001b[0m_run\u001b[0m\u001b[1;33m(\u001b[0m\u001b[1;33m)\u001b[0m\u001b[1;33m(\u001b[0m\u001b[1;33m)\u001b[0m\u001b[1;33m\u001b[0m\u001b[0m\n\u001b[0m",
      "\u001b[1;31mTypeError\u001b[0m: 'coroutine' object is not callable"
     ]
    }
   ],
   "source": [
    "m = Manifest()\n",
    "m2 = Manifest(start_url='https://httpbin.org/ip')\n",
    "o = Orchestrator()\n",
    "o.load(m)\n",
    "o.load(m2)\n",
    "o._run()"
   ]
  },
  {
   "cell_type": "code",
   "execution_count": 25,
   "metadata": {},
   "outputs": [
    {
     "name": "stdout",
     "output_type": "stream",
     "text": [
      "hi\n"
     ]
    }
   ],
   "source": [
    "print('hi')"
   ]
  },
  {
   "cell_type": "code",
   "execution_count": null,
   "metadata": {
    "collapsed": true
   },
   "outputs": [],
   "source": []
  }
 ],
 "metadata": {
  "kernelspec": {
   "display_name": "Python 3",
   "language": "python",
   "name": "python3"
  },
  "language_info": {
   "codemirror_mode": {
    "name": "ipython",
    "version": 3
   },
   "file_extension": ".py",
   "mimetype": "text/x-python",
   "name": "python",
   "nbconvert_exporter": "python",
   "pygments_lexer": "ipython3",
   "version": "3.6.2"
  }
 },
 "nbformat": 4,
 "nbformat_minor": 2
}
